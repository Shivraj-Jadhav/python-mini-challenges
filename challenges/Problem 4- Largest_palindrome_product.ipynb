{
  "cells": [
    {
      "cell_type": "markdown",
      "id": "2b12cfd5",
      "metadata": {
        "id": "2b12cfd5"
      },
      "source": [
        "A palindromic number reads the same both ways. The largest palindrome made from the product of two 2-digit numbers is 9009 = 91 × 99.\n",
        "\n",
        "Find the largest palindrome made from the product of two n-digit numbers."
      ]
    },
    {
      "cell_type": "code",
      "execution_count": null,
      "id": "d6d73b7b",
      "metadata": {
        "id": "d6d73b7b",
        "outputId": "5329f4c6-cc51-4946-b270-caf377f2026b"
      },
      "outputs": [
        {
          "data": {
            "text/plain": [
              "9009"
            ]
          },
          "execution_count": 32,
          "metadata": {},
          "output_type": "execute_result"
        }
      ],
      "source": [
        "def largestPalindromeProduct(n):\n",
        "    num=0\n",
        "    temp=False\n",
        "    for i in range((10**n)-1,10**(n-1),-1):\n",
        "        j=(10**n)-1\n",
        "        while j>((10**(n)-1)-10**(n-1)):\n",
        "            num=i*j\n",
        "            if ((str(num))==(str(num)[::-1])):\n",
        "                temp=True\n",
        "                break\n",
        "            j-=1\n",
        "        if temp:\n",
        "            break\n",
        "    return num\n",
        "\n",
        "largestPalindromeProduct(2)"
      ]
    },
    {
      "cell_type": "markdown",
      "source": [
        "<li>The function largestPalindromeProduct() takes a positive integer n as input and returns the largest palindrome that is the product of two n-digit numbers.\n",
        "<li>The function first initializes two variables: num and temp. num will store the product of two n-digit numbers, and temp will be a boolean variable to indicate whether or not the product is a palindrome.\n",
        "<li>The function then iterates through all possible pairs of n-digit numbers, starting with the largest pair and working its way down.\n",
        "<li>For each pair of numbers, the function calculates the product and checks if it is a palindrome. If it is, the function sets temp to True and breaks out of the inner loop.\n",
        "<li>If the function reaches the end of the inner loop without finding a palindrome, it sets temp to False.\n",
        "<li>If the function reaches the end of the outer loop and temp is still False, it means that there is no palindrome that is the product of two n-digit numbers. The function returns 0 in this case.\n",
        "<li>Otherwise, the function returns the largest palindrome that it found."
      ],
      "metadata": {
        "id": "P9Qy3jqU2_b_"
      },
      "id": "P9Qy3jqU2_b_"
    },
    {
      "cell_type": "code",
      "execution_count": null,
      "id": "3227663a",
      "metadata": {
        "id": "3227663a"
      },
      "outputs": [],
      "source": []
    }
  ],
  "metadata": {
    "kernelspec": {
      "display_name": "Python 3 (ipykernel)",
      "language": "python",
      "name": "python3"
    },
    "language_info": {
      "codemirror_mode": {
        "name": "ipython",
        "version": 3
      },
      "file_extension": ".py",
      "mimetype": "text/x-python",
      "name": "python",
      "nbconvert_exporter": "python",
      "pygments_lexer": "ipython3",
      "version": "3.10.9"
    },
    "colab": {
      "provenance": []
    }
  },
  "nbformat": 4,
  "nbformat_minor": 5
}
