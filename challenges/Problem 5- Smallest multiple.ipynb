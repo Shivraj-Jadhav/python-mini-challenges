{
 "cells": [
  {
   "cell_type": "markdown",
   "id": "23c0a736-cea4-4f5c-8602-eb4fe77eda7f",
   "metadata": {},
   "source": [
    "2520 is the smallest number that can be divided by each of the numbers from 1 to 10 without any remainder.\n",
    "\n",
    "What is the smallest positive number that is evenly divisible by all of the numbers from 1 to n?"
   ]
  },
  {
   "cell_type": "markdown",
   "id": "0ecc8253-55e4-42e6-a57c-ab9ef4247f3c",
   "metadata": {},
   "source": [
    "\n",
    "**1. Input and Initialization:**\n",
    "\n",
    "*   `n = int(input())`: This line takes an integer input from the user and stores it in the variable `n`.\n",
    "*   `ans = 1`: This line initializes a variable `ans` to 1. However, the variable `ans` is not used in the subsequent code, so its purpose is unclear.\n",
    "\n",
    "**2. Determine the Initial Value of `num`:**\n",
    "\n",
    "*   `if n > 1 and n <= 6:`: This condition checks if the input `n` is within the range of 2 to 6 (inclusive).\n",
    "    *   If the condition is True:\n",
    "        *   `num = n * n - 1`: The variable `num` is assigned the value of `n` squared minus 1.\n",
    "    *   If the condition is False:\n",
    "        *   `num = n * n - 1 * n - 2`: The variable `num` is assigned the value of `n` squared minus `n` minus 2.\n",
    "\n",
    "**3. Find the Next Divisible Number:**\n",
    "\n",
    "*   `while True:`: This initiates an infinite loop.\n",
    "    *   `for i in range(1, n+2)`: This loop iterates through numbers from 1 to `n+1`.\n",
    "        *   `if num % i != 0`: This condition checks if `num` is not divisible by the current value of `i`. If not, the loop breaks.\n",
    "    *   `if i == n+1`: This condition checks if the inner loop completed without encountering a non-divisible number. If so, it means `num` is divisible by all numbers from 1 to `n+1`, and the outer loop breaks.\n",
    "    *   `num += 1`: If the inner loop breaks without finding a divisor, `num` is incremented by 1, and the outer loop continues.\n",
    "\n",
    "**4. Output:**\n",
    "\n",
    "*   `print(num)`: This line prints the final value of `num`, which is the first number greater than or equal to the initial value of `num` that is divisible by all integers from 1 to `n+1`.\n",
    "\n",
    "**In summary:**\n",
    "\n",
    "* The code calculates and prints the smallest number that is divisible by all integers from 1 to `n+1`, starting from an initial value determined by the input `n`.\n",
    "\n"
   ]
  },
  {
   "cell_type": "code",
   "execution_count": 20,
   "id": "6bf10f07-2269-49f9-997a-38f8d640b142",
   "metadata": {},
   "outputs": [
    {
     "name": "stdin",
     "output_type": "stream",
     "text": [
      " 20\n"
     ]
    },
    {
     "name": "stdout",
     "output_type": "stream",
     "text": [
      "232792560\n"
     ]
    }
   ],
   "source": [
    "n = int(input())\n",
    "ans=1\n",
    "if n>1 and n<=6:\n",
    "    num=n*n-1\n",
    "else:\n",
    "    num=n*n-1*n-2\n",
    "while True:\n",
    "    for i in range(1,n+2):\n",
    "        if num%i!=0:\n",
    "            break\n",
    "    if i==n+1:\n",
    "        break\n",
    "    num+=1\n",
    "print(num)"
   ]
  },
  {
   "cell_type": "markdown",
   "id": "cbff09fa-09f4-4f72-a013-266b6e3923e4",
   "metadata": {},
   "source": [
    "\n",
    "**1. Import necessary library:**\n",
    "\n",
    "* `import math`: This line imports the `math` module, which provides mathematical functions like `gcd` (greatest common divisor).\n",
    "\n",
    "**2. Define the `lcm()` function:**\n",
    "\n",
    "* `def lcm(n):`: This defines a function named `lcm` that takes an integer `n` as input.\n",
    "* `ans = 1`: Initializes a variable `ans` to 1, which will store the least common multiple.\n",
    "* `for i in range(1, n + 1):`: This loop iterates through numbers from 1 to `n`.\n",
    "    * `ans = int((ans * i)/math.gcd(ans, i))`: This is the core of the calculation:\n",
    "        * `math.gcd(ans, i)` calculates the greatest common divisor of the current `ans` and the current number `i`.\n",
    "        * `(ans * i) / math.gcd(ans, i)` calculates the least common multiple of `ans` and `i` using the formula: \n",
    "            * LCM(a, b) = (a * b) / GCD(a, b)\n",
    "        * `int(...)` converts the result to an integer.\n",
    "* `return ans`: After the loop completes, the function returns the calculated `lcm`.\n",
    "\n",
    "**3. Main execution block:**\n",
    "\n",
    "* `n = 20`: Sets the value of `n` to 20, meaning we want to find the LCM of the first 20 numbers.\n",
    "* `print(lcm(n))`: Calls the `lcm()` function with `n` as input and prints the returned result.\n",
    "\n",
    "**In summary:**\n",
    "\n",
    "The code calculates the least common multiple (LCM) of the first `n` natural numbers by iteratively finding the LCM of the current `ans` and the next number in the sequence, using the relationship between LCM and GCD.\n"
   ]
  },
  {
   "cell_type": "code",
   "execution_count": 27,
   "id": "45b147eb-6380-48b8-bbb2-dd2e006af8f9",
   "metadata": {},
   "outputs": [
    {
     "name": "stdout",
     "output_type": "stream",
     "text": [
      "232792560\n"
     ]
    }
   ],
   "source": [
    "import math\n",
    "  \n",
    "# Returns the lcm of first n numbers \n",
    "def lcm(n): \n",
    "    ans = 1\n",
    "    for i in range(1, n + 1):\n",
    "        ans = int((ans * i)/math.gcd(ans, i))         \n",
    "    return ans \n",
    "  \n",
    "# main \n",
    "n = 20\n",
    "print (lcm(n))"
   ]
  },
  {
   "cell_type": "code",
   "execution_count": null,
   "id": "a3cfa71b-bd28-401e-a4e8-28cf0828c667",
   "metadata": {},
   "outputs": [],
   "source": []
  }
 ],
 "metadata": {
  "kernelspec": {
   "display_name": "Python 3 (ipykernel)",
   "language": "python",
   "name": "python3"
  },
  "language_info": {
   "codemirror_mode": {
    "name": "ipython",
    "version": 3
   },
   "file_extension": ".py",
   "mimetype": "text/x-python",
   "name": "python",
   "nbconvert_exporter": "python",
   "pygments_lexer": "ipython3",
   "version": "3.12.4"
  }
 },
 "nbformat": 4,
 "nbformat_minor": 5
}
