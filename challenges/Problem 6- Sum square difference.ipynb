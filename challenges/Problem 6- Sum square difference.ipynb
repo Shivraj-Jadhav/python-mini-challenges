{
 "cells": [
  {
   "cell_type": "markdown",
   "id": "23c0a736-cea4-4f5c-8602-eb4fe77eda7f",
   "metadata": {},
   "source": [
    "**Problem:**\n",
    "\n",
    "Find the difference between the sum of the squares of the first n natural numbers and the square of the sum.\n",
    "\n",
    "**Given:**\n",
    "\n",
    "* Sum of squares of first 10 natural numbers: 1² + 2² + ... + 10² = 385\n",
    "* Square of sum of first 10 natural numbers: (1 + 2 + ... + 10)² = 55² = 3025\n",
    "* Difference: 3025 - 385 = 2640 + 1) * (n - 1) * (3n + 2) / 12`**e sum.\r\n",
    "\r\n"
   ]
  },
  {
   "cell_type": "markdown",
   "id": "5db297ff-d307-4997-8f6b-1e5e7b7c31ea",
   "metadata": {},
   "source": [
    "Initialization:\n",
    "<br/>\n",
    "num: Stores the input value (number of natural numbers).<br/>\n",
    "a: Stores the sum of the squares of the numbers.<br/>\n",
    "b: Stores the sum of the numbers.<br/>\n",
    "Iteration:<br/>\n",
    "\n",
    "The for loop iterates from 1 to num (inclusive).<br/>\n",
    "In each iteration:<br/>\n",
    "a += (i²): Adds the square of the current number (i) to the a variable.<br/>\n",
    "b += i: Adds the current number (i) to the b variable.<br/>\n",
    "Calculation and Output:<br/>\n",
    "<br/>\n",
    "print(b²-a): Calculates the difference between the square of the sum (b²) and the sum of the squares (a) and prints the result."
   ]
  },
  {
   "cell_type": "code",
   "execution_count": 3,
   "id": "cb15a340-c320-4469-979a-79ee5c4da3c5",
   "metadata": {},
   "outputs": [
    {
     "name": "stdin",
     "output_type": "stream",
     "text": [
      " 10\n"
     ]
    },
    {
     "name": "stdout",
     "output_type": "stream",
     "text": [
      "2640\n"
     ]
    }
   ],
   "source": [
    "num = int(input())\n",
    "a=0\n",
    "b=0\n",
    "for i in range(1,num+1):\n",
    "    a+=(i**2)\n",
    "    b+=i\n",
    "print(b**2-a)"
   ]
  },
  {
   "cell_type": "markdown",
   "id": "890c96e1-ec87-496e-970f-6a34d39e14e7",
   "metadata": {},
   "source": [
    "\n",
    "\r\n",
    "**Solution:**\r\n",
    "\r\n",
    "1. **Sum of the first n natural numbers:** \r\n",
    "   - The sum of the first n natural numbers is given by the formula: \r\n",
    "      - `sum_n = n * (n + 1) / 2`\r\n",
    "\r\n",
    "2. **Square of the sum of the first n natural numbers:**\r\n",
    "   - `square_of_sum_n = (sum_n)² = (n * (n + 1) / 2)²`\r\n",
    "\r\n",
    "3. **Sum of the squares of the first n natural numbers:**\r\n",
    "   - The sum of the squares of the first n natural numbers is given by the formula:\r\n",
    "      - `sum_of_squares_n = n * (n + 1) * (2n + 1) / 6`\r\n",
    "\r\n",
    "4. **Difference:**\r\n",
    "   - `difference = square_of_sum_n - sum_of_squares_n`\r\n",
    "      - `difference = (n * (n + 1) / 2)² - n * (n + 1) * (2n + 1) / 6`\r\n",
    "      - `difference = (n² * (n + 1)² / 4) - (n * (n + 1) * (2n + 1) / 6)`\r\n",
    "      - `difference = n * (n + 1) * [(n * (n + 1) / 4) - (2n + 1) / 6]`\r\n",
    "      - `difference = n * (n + 1) * [(3n² + 3n - 4n - 2) / 12]`\r\n",
    "      - `difference = n * (n + 1) * (3n² - n - 2) / 12`\r\n",
    "      - `difference = n * (n + 1) * (n - 1) * (3n + 2) / 12`\r\n",
    "\r\n",
    "**Therefore, the difference between the sum of the squares of the first n natural numbers and the square of the sum is:**\r\n",
    "\r\n",
    "**`n * (n + 1) * (n - 1) * (3n + 2) / 12`**e sum.\r\n",
    "\r\n"
   ]
  },
  {
   "cell_type": "code",
   "execution_count": 1,
   "id": "ba5d2085-b305-4797-a345-58bd8d3ba441",
   "metadata": {},
   "outputs": [
    {
     "name": "stdin",
     "output_type": "stream",
     "text": [
      " 10\n"
     ]
    },
    {
     "name": "stdout",
     "output_type": "stream",
     "text": [
      "2640.0\n"
     ]
    }
   ],
   "source": [
    "num = int(input())\n",
    "ans = (((num-1)*num*(num+1)*(3*num+2))/12)\n",
    "print(ans)"
   ]
  },
  {
   "cell_type": "code",
   "execution_count": null,
   "id": "a3cfa71b-bd28-401e-a4e8-28cf0828c667",
   "metadata": {},
   "outputs": [],
   "source": []
  }
 ],
 "metadata": {
  "kernelspec": {
   "display_name": "Python 3 (ipykernel)",
   "language": "python",
   "name": "python3"
  },
  "language_info": {
   "codemirror_mode": {
    "name": "ipython",
    "version": 3
   },
   "file_extension": ".py",
   "mimetype": "text/x-python",
   "name": "python",
   "nbconvert_exporter": "python",
   "pygments_lexer": "ipython3",
   "version": "3.12.4"
  }
 },
 "nbformat": 4,
 "nbformat_minor": 5
}
