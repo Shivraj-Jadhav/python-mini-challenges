{
 "cells": [
  {
   "cell_type": "markdown",
   "id": "b5df6876",
   "metadata": {},
   "source": [
    "If we list all the natural numbers below 10 that are multiples of 3 or 5, we get 3, 5, 6 and 9. The sum of these multiples is 23.\n",
    "\n",
    "Find the sum of all the multiples of 3 or 5 below the provided parameter value number.\n",
    "\n"
   ]
  },
  {
   "cell_type": "code",
   "execution_count": 4,
   "id": "80421493",
   "metadata": {},
   "outputs": [],
   "source": [
    "def multiplesOf3and5(number):\n",
    "    ans = 0\n",
    "    for i in range(number+1):\n",
    "        if i%3==0 or i%5==0:\n",
    "            ans += i\n",
    "    return ans"
   ]
  },
  {
   "cell_type": "code",
   "execution_count": 5,
   "id": "4ce3eaf7",
   "metadata": {},
   "outputs": [
    {
     "data": {
      "text/plain": [
       "234168"
      ]
     },
     "execution_count": 5,
     "metadata": {},
     "output_type": "execute_result"
    }
   ],
   "source": [
    "multiplesOf3and5(1000)"
   ]
  },
  {
   "cell_type": "markdown",
   "id": "30190f7e",
   "metadata": {},
   "source": [
    "Let's break down the logic of the code step by step:\n",
    "<ol>\n",
    "<li>The function multiplesOf3and5 takes a parameter number, which represents the upper limit or the maximum number to consider when calculating the sum of multiples of 3 and 5.</li>\n",
    "\n",
    "<li>The variable ans is initialized to 0. This variable will store the running sum of the multiples.</li>\n",
    "\n",
    "<li>The for loop iterates through the range from 0 to number+1. The range function generates a sequence of numbers starting from 0 and ending at number, including 0 but excluding number+1.</li>\n",
    "\n",
    "<li>Inside the loop, each value i is checked for divisibility by 3 or 5 using the modulo operator %. The condition i % 3 == 0 checks if i is divisible by 3, and i % 5 == 0 checks if i is divisible by 5.</li>\n",
    "\n",
    "<li>If either of the conditions is true (i.e., if i is divisible by 3 or 5), the current value of i is added to the ans variable using the += operator. This accumulates the sum of all the multiples of 3 and 5.</li>\n",
    "\n",
    "<li>Once the loop finishes iterating through all the numbers in the range, the final value of ans is returned as the result.</li></ol>\n",
    "\n",
    "In summary, the code calculates the sum of all the multiples of 3 and 5 below the given number by iterating through the range and adding the divisible numbers to the running sum. The result is then returned."
   ]
  },
  {
   "cell_type": "code",
   "execution_count": null,
   "id": "1e24522d",
   "metadata": {},
   "outputs": [],
   "source": []
  }
 ],
 "metadata": {
  "kernelspec": {
   "display_name": "Python 3 (ipykernel)",
   "language": "python",
   "name": "python3"
  },
  "language_info": {
   "codemirror_mode": {
    "name": "ipython",
    "version": 3
   },
   "file_extension": ".py",
   "mimetype": "text/x-python",
   "name": "python",
   "nbconvert_exporter": "python",
   "pygments_lexer": "ipython3",
   "version": "3.10.9"
  }
 },
 "nbformat": 4,
 "nbformat_minor": 5
}
